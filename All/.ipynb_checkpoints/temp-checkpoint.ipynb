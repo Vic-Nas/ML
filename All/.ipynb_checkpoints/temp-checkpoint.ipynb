{
 "cells": [
  {
   "cell_type": "code",
   "execution_count": null,
   "id": "82b39728-1584-42ae-8300-c9ae9a95d087",
   "metadata": {},
   "outputs": [],
   "source": [
    "import pandas as pd, numpy as np\n",
    "import sys\n",
    "\n",
    "sys.set_int_max_str_digits(1000000000)\n",
    "data = pd.read_csv(\"data/prem_i.csv\", sep = \";\")\n",
    "data = data.dropna()\n",
    "x = data.drop(\"target\", axis = 1)\n",
    "y = data[\"target\"]\n",
    "print(data.shape)\n",
    "data.dtypes"
   ]
  },
  {
   "cell_type": "code",
   "execution_count": null,
   "id": "43b14fb4-3b7f-4fca-a6e9-e3b3a9daadf3",
   "metadata": {},
   "outputs": [
    {
     "name": "stdout",
     "output_type": "stream",
     "text": [
      "building tree 1 of 100\n",
      "building tree 2 of 100\n"
     ]
    }
   ],
   "source": [
    "from sklearn.ensemble import RandomForestRegressor\n",
    "from sklearn.model_selection import train_test_split\n",
    "x_train, x_test, y_train, y_test = train_test_split(x, y, test_size = 0.2)\n",
    "model = RandomForestRegressor(n_jobs = 1, random_state = 42, verbose = 2)\n",
    "model.fit(x_train, y_train)\n",
    "model.score(x_test, y_test)\n",
    "def predict(x): return model.predict(np.array([[x]]))[0]"
   ]
  },
  {
   "cell_type": "code",
   "execution_count": 47,
   "id": "0acbaced-5ae3-4930-bb8f-8fa3cc8a1627",
   "metadata": {},
   "outputs": [
    {
     "name": "stderr",
     "output_type": "stream",
     "text": [
      "C:\\Users\\nasci\\AppData\\Local\\Programs\\Python\\Python313\\Lib\\site-packages\\sklearn\\utils\\validation.py:2739: UserWarning: X does not have valid feature names, but RandomForestRegressor was fitted with feature names\n",
      "  warnings.warn(\n"
     ]
    },
    {
     "data": {
      "text/plain": [
       "np.float64(95.2)"
      ]
     },
     "execution_count": 47,
     "metadata": {},
     "output_type": "execute_result"
    }
   ],
   "source": [
    "predict(24)"
   ]
  },
  {
   "cell_type": "code",
   "execution_count": null,
   "id": "9234f706-d723-4715-b1ec-1ad0a990670b",
   "metadata": {},
   "outputs": [],
   "source": []
  }
 ],
 "metadata": {
  "kernelspec": {
   "display_name": "Python 3 (ipykernel)",
   "language": "python",
   "name": "python3"
  },
  "language_info": {
   "codemirror_mode": {
    "name": "ipython",
    "version": 3
   },
   "file_extension": ".py",
   "mimetype": "text/x-python",
   "name": "python",
   "nbconvert_exporter": "python",
   "pygments_lexer": "ipython3",
   "version": "3.13.1"
  }
 },
 "nbformat": 4,
 "nbformat_minor": 5
}
